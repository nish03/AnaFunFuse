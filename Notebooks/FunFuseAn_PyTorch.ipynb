{
 "cells": [
  {
   "cell_type": "markdown",
   "metadata": {},
   "source": [
    "# This is the pytorch implementation of the paper \"Structural Similarity based Anatomical and Functional Brain Imaging Fusion\""
   ]
  },
  {
   "cell_type": "code",
   "execution_count": 19,
   "metadata": {},
   "outputs": [],
   "source": [
    "#Import packages\n",
    "import time\n",
    "import torch.nn as nn\n",
    "import torch\n",
    "from torch.utils.data import Dataset, DataLoader\n",
    "import torchvision.datasets as datasets\n",
    "import numpy as np\n",
    "from torchvision import transforms\n",
    "from torch.autograd import Variable\n",
    "from PIL import Image\n",
    "import torchvision.transforms.functional as TF\n",
    "from torchvision.models.vgg import vgg19\n",
    "import torch.nn as nn\n",
    "import torch.nn.functional as F\n",
    "import torch\n",
    "from skimage import img_as_ubyte\n",
    "import torch.nn as nn\n",
    "import torch.utils.data as Data\n",
    "import torchvision      # dataset\n",
    "import matplotlib.pyplot as plt\n",
    "import scipy\n",
    "import numpy as np\n",
    "import argparse\n",
    "import glob\n",
    "import imageio\n",
    "from skimage import color\n",
    "import numpy\n",
    "import natsort\n",
    "import scipy\n",
    "from pytorch_msssim import ssim, ms_ssim, SSIM, MS_SSIM\n",
    "import pprint\n",
    "from scipy.ndimage import correlate\n",
    "from scipy.ndimage.filters import gaussian_gradient_magnitude\n",
    "import torchvision.datasets as dset\n",
    "import torch.utils.data as data\n",
    "import os\n",
    "import os.path\n",
    "from tkinter import *\n",
    "import tkinter as tk\n",
    "import tkinter.font as tkFont\n",
    "from PIL import ImageTk, Image\n",
    "import pylab\n",
    "import cv2\n",
    "import h5py\n",
    "from mpl_toolkits.axes_grid1 import make_axes_locatable\n",
    "from matplotlib.font_manager import FontProperties"
   ]
  },
  {
   "cell_type": "code",
   "execution_count": 2,
   "metadata": {},
   "outputs": [
    {
     "name": "stdout",
     "output_type": "stream",
     "text": [
      "33822867456\n"
     ]
    }
   ],
   "source": [
    "device = 'cuda' if torch.cuda.is_available() else 'cpu'\n",
    "print(torch.cuda.get_device_properties(0).total_memory)"
   ]
  },
  {
   "cell_type": "code",
   "execution_count": 3,
   "metadata": {},
   "outputs": [
    {
     "data": {
      "text/plain": [
       "176"
      ]
     },
     "execution_count": 3,
     "metadata": {},
     "output_type": "execute_result"
    }
   ],
   "source": [
    "import multiprocessing\n",
    "\n",
    "multiprocessing.cpu_count()"
   ]
  },
  {
   "cell_type": "code",
   "execution_count": 4,
   "metadata": {},
   "outputs": [],
   "source": [
    "#define the hyperparameters\n",
    "image_length = 256\n",
    "image_width  = 256\n",
    "mr_channels  = 1\n",
    "gray_channels = 1\n",
    "pet_channels = 4    \n",
    "rgb_channels = 3     \n",
    "batch_size   = 2\n",
    "EPOCH = 200\n",
    "learning_rate = 0.002"
   ]
  },
  {
   "cell_type": "code",
   "execution_count": 5,
   "metadata": {},
   "outputs": [],
   "source": [
    "#load the train mri data\n",
    "filenames = os.listdir('/home/h1/s8993054/Forschungprojekt/Training/MRI')\n",
    "dataset = os.path.join(os.getcwd(), '/home/h1/s8993054/Forschungprojekt/Training/MRI')\n",
    "data = glob.glob(os.path.join(dataset, \"*.gif\"))\n",
    "data = natsort.natsorted(data,reverse=False)\n",
    "train_mri = np.zeros((len(data), image_width,image_length))\n",
    "for i in range(len(data)):\n",
    "    train_mri[i,:,:] =(imageio.imread(data[i]))\n",
    "    train_mri[i,:,:] =(train_mri[i,:,:] - np.min(train_mri[i,:,:])) / (np.max(train_mri[i,:,:]) - np.min(train_mri[i,:,:]))\n",
    "    train_mri[i,:,:] = np.float32(train_mri[i,:,:])"
   ]
  },
  {
   "cell_type": "code",
   "execution_count": 6,
   "metadata": {},
   "outputs": [],
   "source": [
    "#expand dimension to add the channel\n",
    "train_mri = np.expand_dims(train_mri,axis=1)"
   ]
  },
  {
   "cell_type": "code",
   "execution_count": 7,
   "metadata": {},
   "outputs": [
    {
     "data": {
      "text/plain": [
       "(272, 1, 256, 256)"
      ]
     },
     "execution_count": 7,
     "metadata": {},
     "output_type": "execute_result"
    }
   ],
   "source": [
    "#verify the shape matches the pytorch standard\n",
    "train_mri.shape"
   ]
  },
  {
   "cell_type": "code",
   "execution_count": 8,
   "metadata": {},
   "outputs": [
    {
     "data": {
      "text/plain": [
       "torch.Size([272, 1, 256, 256])"
      ]
     },
     "execution_count": 8,
     "metadata": {},
     "output_type": "execute_result"
    }
   ],
   "source": [
    "#convert the MRI training data to pytorch tensor\n",
    "train_mri_tensor = torch.from_numpy(train_mri).float()\n",
    "train_mri_tensor.shape"
   ]
  },
  {
   "cell_type": "code",
   "execution_count": 9,
   "metadata": {},
   "outputs": [],
   "source": [
    "#load the train pet data\n",
    "filenames = os.listdir('/home/h1/s8993054/Forschungprojekt/Training/PET')\n",
    "dataset = os.path.join(os.getcwd(), '/home/h1/s8993054/Forschungprojekt/Training/PET')\n",
    "data = glob.glob(os.path.join(dataset, \"*.gif\"))\n",
    "data = natsort.natsorted(data,reverse=False)\n",
    "train_other = np.zeros((len(data),image_width,image_length,pet_channels),dtype=float)\n",
    "train_pet = np.zeros((len(data),image_width,image_length),dtype=float)\n",
    "for i in range(len(data)):\n",
    "    train_other[i,:,:,:] =(imageio.imread(data[i]))\n",
    "    train_pet[i,:,:] = 0.2989 * train_other[i,:,:,0] + 0.5870 *  train_other[i,:,:,1]  + 0.1140 * train_other[i,:,:,2]\n",
    "    train_pet[i,:,:] =(train_pet[i,:,:] - np.min(train_pet[i,:,:])) / (np.max(train_pet[i,:,:]) - np.min(train_pet[i,:,:]))"
   ]
  },
  {
   "cell_type": "code",
   "execution_count": 10,
   "metadata": {},
   "outputs": [],
   "source": [
    "#expand the dimension to add the channel\n",
    "train_pet = np.expand_dims(train_pet,axis=1)"
   ]
  },
  {
   "cell_type": "code",
   "execution_count": 11,
   "metadata": {},
   "outputs": [
    {
     "data": {
      "text/plain": [
       "(272, 1, 256, 256)"
      ]
     },
     "execution_count": 11,
     "metadata": {},
     "output_type": "execute_result"
    }
   ],
   "source": [
    "#verify the shape matches the pytorch standard\n",
    "train_pet.shape"
   ]
  },
  {
   "cell_type": "code",
   "execution_count": 12,
   "metadata": {},
   "outputs": [
    {
     "data": {
      "text/plain": [
       "torch.Size([272, 1, 256, 256])"
      ]
     },
     "execution_count": 12,
     "metadata": {},
     "output_type": "execute_result"
    }
   ],
   "source": [
    "#convert the PET training data to pytorch tensor\n",
    "train_pet_tensor = torch.from_numpy(train_pet).float()\n",
    "train_pet_tensor.shape"
   ]
  },
  {
   "cell_type": "code",
   "execution_count": 13,
   "metadata": {},
   "outputs": [
    {
     "name": "stdout",
     "output_type": "stream",
     "text": [
      "FunFuseAn(\n",
      "  (mri_lf): Sequential(\n",
      "    (0): Conv2d(1, 16, kernel_size=(9, 9), stride=(1, 1), padding=(4, 4))\n",
      "    (1): BatchNorm2d(16, eps=1e-05, momentum=0.1, affine=True, track_running_stats=True)\n",
      "    (2): LeakyReLU(negative_slope=0.2, inplace)\n",
      "  )\n",
      "  (mri_hf): Sequential(\n",
      "    (0): Conv2d(1, 16, kernel_size=(3, 3), stride=(1, 1), padding=(1, 1))\n",
      "    (1): BatchNorm2d(16, eps=1e-05, momentum=0.1, affine=True, track_running_stats=True)\n",
      "    (2): LeakyReLU(negative_slope=0.2, inplace)\n",
      "    (3): Conv2d(16, 32, kernel_size=(3, 3), stride=(1, 1), padding=(1, 1))\n",
      "    (4): BatchNorm2d(32, eps=1e-05, momentum=0.1, affine=True, track_running_stats=True)\n",
      "    (5): LeakyReLU(negative_slope=0.2, inplace)\n",
      "    (6): Conv2d(32, 64, kernel_size=(3, 3), stride=(1, 1), padding=(1, 1))\n",
      "    (7): BatchNorm2d(64, eps=1e-05, momentum=0.1, affine=True, track_running_stats=True)\n",
      "    (8): LeakyReLU(negative_slope=0.2, inplace)\n",
      "  )\n",
      "  (pet_lf): Sequential(\n",
      "    (0): Conv2d(1, 16, kernel_size=(7, 7), stride=(1, 1), padding=(3, 3))\n",
      "    (1): BatchNorm2d(16, eps=1e-05, momentum=0.1, affine=True, track_running_stats=True)\n",
      "    (2): LeakyReLU(negative_slope=0.2, inplace)\n",
      "  )\n",
      "  (pet_hf): Sequential(\n",
      "    (0): Conv2d(1, 16, kernel_size=(5, 5), stride=(1, 1), padding=(2, 2))\n",
      "    (1): BatchNorm2d(16, eps=1e-05, momentum=0.1, affine=True, track_running_stats=True)\n",
      "    (2): LeakyReLU(negative_slope=0.2, inplace)\n",
      "    (3): Conv2d(16, 32, kernel_size=(5, 5), stride=(1, 1), padding=(2, 2))\n",
      "    (4): BatchNorm2d(32, eps=1e-05, momentum=0.1, affine=True, track_running_stats=True)\n",
      "    (5): LeakyReLU(negative_slope=0.2, inplace)\n",
      "    (6): Conv2d(32, 64, kernel_size=(3, 3), stride=(1, 1), padding=(1, 1))\n",
      "    (7): BatchNorm2d(64, eps=1e-05, momentum=0.1, affine=True, track_running_stats=True)\n",
      "    (8): LeakyReLU(negative_slope=0.2, inplace)\n",
      "  )\n",
      "  (recon1): Sequential(\n",
      "    (0): Conv2d(64, 32, kernel_size=(5, 5), stride=(1, 1), padding=(2, 2))\n",
      "    (1): BatchNorm2d(32, eps=1e-05, momentum=0.1, affine=True, track_running_stats=True)\n",
      "    (2): LeakyReLU(negative_slope=0.2, inplace)\n",
      "    (3): Conv2d(32, 16, kernel_size=(5, 5), stride=(1, 1), padding=(2, 2))\n",
      "    (4): BatchNorm2d(16, eps=1e-05, momentum=0.1, affine=True, track_running_stats=True)\n",
      "    (5): LeakyReLU(negative_slope=0.2, inplace)\n",
      "  )\n",
      "  (recon2): Sequential(\n",
      "    (0): Conv2d(16, 1, kernel_size=(5, 5), stride=(1, 1), padding=(2, 2))\n",
      "  )\n",
      ")\n"
     ]
    }
   ],
   "source": [
    "#define the network\n",
    "class FunFuseAn(nn.Module):\n",
    "    def  __init__(self):\n",
    "        super(FunFuseAn, self).__init__()\n",
    "        #####mri lf layer 1#####\n",
    "        self.mri_lf = nn.Sequential( #input shape (,1,256,256)\n",
    "                         nn.Conv2d(in_channels=1, out_channels=16, kernel_size=9, stride=1, padding=4),\n",
    "                         nn.BatchNorm2d(16),\n",
    "                         nn.LeakyReLU(0.2,inplace=True)) #output shape (,16,256,256)   \n",
    "        #####mri hf layers#####\n",
    "        self.mri_hf = nn.Sequential(  #input shape (,1,256,256)\n",
    "                         nn.Conv2d(in_channels = 1, out_channels = 16, kernel_size  = 3, stride= 1, padding = 1),\n",
    "                         nn.BatchNorm2d(16),\n",
    "                         nn.LeakyReLU(0.2,inplace=True),\n",
    "                         nn.Conv2d(in_channels  = 16, out_channels = 32, kernel_size = 3, stride = 1, padding = 1),\n",
    "                         nn.BatchNorm2d(32),\n",
    "                         nn.LeakyReLU(0.2,inplace=True),\n",
    "                         nn.Conv2d(in_channels  = 32, out_channels = 64, kernel_size  = 3, stride = 1, padding = 1),\n",
    "                         nn.BatchNorm2d(64),\n",
    "                         nn.LeakyReLU(0.2,inplace=True)) #output shape (,64,256,256)\n",
    "        #####pet lf layer 1#####\n",
    "        self.pet_lf = nn.Sequential( #input shape (,1,256,256)\n",
    "                         nn.Conv2d(in_channels=1, out_channels=16, kernel_size=7, stride=1, padding=3),\n",
    "                         nn.BatchNorm2d(16),\n",
    "                         nn.LeakyReLU(0.2,inplace=True)) #output shape (,16,256,256)   \n",
    "        #####pet hf layers#####\n",
    "        self.pet_hf = nn.Sequential(  #input shape (,1,256,256)\n",
    "                         nn.Conv2d(in_channels = 1, out_channels = 16, kernel_size  = 5, stride= 1, padding = 2),\n",
    "                         nn.BatchNorm2d(16),\n",
    "                         nn.LeakyReLU(0.2,inplace=True),\n",
    "                         nn.Conv2d(in_channels  = 16, out_channels = 32, kernel_size = 5, stride = 1, padding = 2),\n",
    "                         nn.BatchNorm2d(32),\n",
    "                         nn.LeakyReLU(0.2,inplace=True),\n",
    "                         nn.Conv2d(in_channels  = 32, out_channels = 64, kernel_size  = 3, stride = 1, padding = 1),\n",
    "                         nn.BatchNorm2d(64),\n",
    "                         nn.LeakyReLU(0.2,inplace=True)) #output shape (,64,256,256)\n",
    "        #####reconstruction layer 1#####\n",
    "        self.recon1 = nn.Sequential(  #input shape (, 64, 256, 256)\n",
    "                          nn.Conv2d(in_channels  = 64,  out_channels = 32, kernel_size  = 5, stride = 1, padding = 2),\n",
    "                          nn.BatchNorm2d(32),\n",
    "                          nn.LeakyReLU(0.2,inplace=True),\n",
    "                          nn.Conv2d(in_channels  = 32, out_channels = 16, kernel_size  = 5, stride = 1, padding = 2),\n",
    "                          nn.BatchNorm2d(16),\n",
    "                          nn.LeakyReLU(0.2,inplace=True)) #output shape (,16, 256, 256)\n",
    "        \n",
    "        #####reconstruction layer 2#####\n",
    "        self.recon2 = nn.Sequential(      #input shape (,16, 256, 256)\n",
    "                            nn.Conv2d(in_channels  = 16, out_channels = 1, kernel_size  = 5, stride = 1, padding = 2))   #output shape (,1,256,256)\n",
    "\n",
    "    def forward(self, x, y):\n",
    "        #mri lf layer 1\n",
    "        x1 = self.mri_lf(x)\n",
    "        #mri hf layers\n",
    "        x2 = self.mri_hf(x)\n",
    "        #pet lf layer 1\n",
    "        y1 = self.pet_lf(y)\n",
    "        #pet hf layers\n",
    "        y2 = self.pet_hf(y)\n",
    "        #high frequency fusion layer\n",
    "        fuse_hf = x2 + y2\n",
    "        #reconstruction layer1\n",
    "        recon_hf = self.recon1(fuse_hf)\n",
    "        #low frequency fusion layer\n",
    "        fuse_lf = (x1 + y1 + recon_hf)/3\n",
    "        #reconstruction layer2\n",
    "        recon3 = self.recon2(fuse_lf)\n",
    "        #tanh layer\n",
    "        fused = torch.tanh(recon3)      \n",
    "        return fused\n",
    "        #execute the network\n",
    "\n",
    "cnn = FunFuseAn().to(device)\n",
    "cnn = cnn.float()\n",
    "print(cnn)"
   ]
  },
  {
   "cell_type": "code",
   "execution_count": 14,
   "metadata": {},
   "outputs": [],
   "source": [
    "#define the optimizers and loss functions \n",
    "optimizer = torch.optim.Adam(cnn.parameters(), lr=learning_rate)   # optimize all cnn parameters\n",
    "l2_loss   = nn.MSELoss() #MSEloss"
   ]
  },
  {
   "cell_type": "code",
   "execution_count": 15,
   "metadata": {},
   "outputs": [
    {
     "name": "stdout",
     "output_type": "stream",
     "text": [
      "Epoch: [ 0],step: [100], mri_ssim_loss: [0.59059155], pet_ssim_loss: [0.72889233],  total_ssim_loss: [0.65974194], total_l2_loss: [0.02025579], total_loss: [0.53184474]\n",
      "Epoch: [ 1],step: [200], mri_ssim_loss: [0.83214092], pet_ssim_loss: [0.92139804],  total_ssim_loss: [0.87676948], total_l2_loss: [0.08638011], total_loss: [0.71869165]\n",
      "Epoch: [ 2],step: [300], mri_ssim_loss: [0.69349217], pet_ssim_loss: [0.80054176],  total_ssim_loss: [0.74701697], total_l2_loss: [0.04077178], total_loss: [0.60576791]\n",
      "Epoch: [ 2],step: [400], mri_ssim_loss: [0.78236282], pet_ssim_loss: [0.85139263],  total_ssim_loss: [0.81687772], total_l2_loss: [0.17890039], total_loss: [0.68928224]\n",
      "Epoch: [ 3],step: [500], mri_ssim_loss: [0.71193355], pet_ssim_loss: [0.73870540],  total_ssim_loss: [0.72531950], total_l2_loss: [0.20246309], total_loss: [0.62074822]\n",
      "Epoch: [ 4],step: [600], mri_ssim_loss: [0.79952961], pet_ssim_loss: [0.82988977],  total_ssim_loss: [0.81470966], total_l2_loss: [0.01802596], total_loss: [0.65537292]\n",
      "Epoch: [ 5],step: [700], mri_ssim_loss: [0.76631570], pet_ssim_loss: [0.66094881],  total_ssim_loss: [0.71363223], total_l2_loss: [0.05533914], total_loss: [0.58197361]\n",
      "Epoch: [ 5],step: [800], mri_ssim_loss: [0.66241515], pet_ssim_loss: [0.73774529],  total_ssim_loss: [0.70008022], total_l2_loss: [0.01557133], total_loss: [0.56317848]\n",
      "Epoch: [ 6],step: [900], mri_ssim_loss: [0.76711220], pet_ssim_loss: [0.76551807],  total_ssim_loss: [0.76631510], total_l2_loss: [0.12867996], total_loss: [0.63878804]\n",
      "Epoch: [ 7],step: [1000], mri_ssim_loss: [0.82339150], pet_ssim_loss: [0.88230914],  total_ssim_loss: [0.85285032], total_l2_loss: [0.05644703], total_loss: [0.69356966]\n",
      "Epoch: [ 8],step: [1100], mri_ssim_loss: [0.64995694], pet_ssim_loss: [0.73362011],  total_ssim_loss: [0.69178855], total_l2_loss: [0.08059098], total_loss: [0.56954902]\n",
      "Epoch: [ 8],step: [1200], mri_ssim_loss: [0.52092636], pet_ssim_loss: [0.74840617],  total_ssim_loss: [0.63466626], total_l2_loss: [0.02055160], total_loss: [0.51184338]\n",
      "Epoch: [ 9],step: [1300], mri_ssim_loss: [0.76461661], pet_ssim_loss: [0.77249891],  total_ssim_loss: [0.76855779], total_l2_loss: [0.01087012], total_loss: [0.61702025]\n",
      "Epoch: [10],step: [1400], mri_ssim_loss: [0.77128923], pet_ssim_loss: [0.86384296],  total_ssim_loss: [0.81756610], total_l2_loss: [0.05544809], total_loss: [0.66514254]\n",
      "Epoch: [11],step: [1500], mri_ssim_loss: [0.64838010], pet_ssim_loss: [0.71604306],  total_ssim_loss: [0.68221158], total_l2_loss: [0.00661285], total_loss: [0.54709184]\n",
      "Epoch: [11],step: [1600], mri_ssim_loss: [0.68815440], pet_ssim_loss: [0.68093032],  total_ssim_loss: [0.68454236], total_l2_loss: [0.06868503], total_loss: [0.56137091]\n",
      "Epoch: [12],step: [1700], mri_ssim_loss: [0.95930642], pet_ssim_loss: [0.98910129],  total_ssim_loss: [0.97420382], total_l2_loss: [0.03861769], total_loss: [0.78708661]\n",
      "Epoch: [13],step: [1800], mri_ssim_loss: [0.65045363], pet_ssim_loss: [0.80949646],  total_ssim_loss: [0.72997504], total_l2_loss: [0.05334019], total_loss: [0.59464806]\n",
      "Epoch: [13],step: [1900], mri_ssim_loss: [0.63160068], pet_ssim_loss: [0.73338103],  total_ssim_loss: [0.68249083], total_l2_loss: [0.01755248], total_loss: [0.54950315]\n",
      "Epoch: [14],step: [2000], mri_ssim_loss: [0.66004211], pet_ssim_loss: [0.75988925],  total_ssim_loss: [0.70996571], total_l2_loss: [0.04012005], total_loss: [0.57599664]\n",
      "Epoch: [15],step: [2100], mri_ssim_loss: [0.81032765], pet_ssim_loss: [0.88891196],  total_ssim_loss: [0.84961981], total_l2_loss: [0.03174200], total_loss: [0.68604422]\n",
      "Epoch: [16],step: [2200], mri_ssim_loss: [0.68342578], pet_ssim_loss: [0.75194746],  total_ssim_loss: [0.71768665], total_l2_loss: [0.02599484], total_loss: [0.57934827]\n",
      "Epoch: [16],step: [2300], mri_ssim_loss: [0.69048667], pet_ssim_loss: [0.74460125],  total_ssim_loss: [0.71754396], total_l2_loss: [0.10691278], total_loss: [0.59541774]\n",
      "Epoch: [17],step: [2400], mri_ssim_loss: [0.75165737], pet_ssim_loss: [0.79867738],  total_ssim_loss: [0.77516735], total_l2_loss: [0.02841840], total_loss: [0.62581754]\n",
      "Epoch: [18],step: [2500], mri_ssim_loss: [0.74747574], pet_ssim_loss: [0.80736572],  total_ssim_loss: [0.77742076], total_l2_loss: [0.02891416], total_loss: [0.62771946]\n",
      "Epoch: [19],step: [2600], mri_ssim_loss: [0.70139605], pet_ssim_loss: [0.77910733],  total_ssim_loss: [0.74025166], total_l2_loss: [0.02946572], total_loss: [0.59809452]\n",
      "Epoch: [19],step: [2700], mri_ssim_loss: [0.77558100], pet_ssim_loss: [0.81319356],  total_ssim_loss: [0.79438728], total_l2_loss: [0.03622749], total_loss: [0.64275533]\n",
      "Epoch: [20],step: [2800], mri_ssim_loss: [0.80167300], pet_ssim_loss: [0.90147161],  total_ssim_loss: [0.85157228], total_l2_loss: [0.15310147], total_loss: [0.71187812]\n",
      "Epoch: [21],step: [2900], mri_ssim_loss: [0.77347076], pet_ssim_loss: [0.89803851],  total_ssim_loss: [0.83575463], total_l2_loss: [0.02980328], total_loss: [0.67456436]\n",
      "Epoch: [22],step: [3000], mri_ssim_loss: [0.56552088], pet_ssim_loss: [0.85549629],  total_ssim_loss: [0.71050858], total_l2_loss: [0.01482187], total_loss: [0.57137126]\n",
      "Epoch: [22],step: [3100], mri_ssim_loss: [0.60401893], pet_ssim_loss: [0.84279615],  total_ssim_loss: [0.72340751], total_l2_loss: [0.11334879], total_loss: [0.60139573]\n",
      "Epoch: [23],step: [3200], mri_ssim_loss: [0.74461704], pet_ssim_loss: [0.82513309],  total_ssim_loss: [0.78487504], total_l2_loss: [0.05631930], total_loss: [0.63916391]\n",
      "Epoch: [24],step: [3300], mri_ssim_loss: [0.64232838], pet_ssim_loss: [0.73523408],  total_ssim_loss: [0.68878126], total_l2_loss: [0.03539046], total_loss: [0.55810314]\n",
      "Epoch: [24],step: [3400], mri_ssim_loss: [0.72070634], pet_ssim_loss: [0.83450437],  total_ssim_loss: [0.77760535], total_l2_loss: [0.03101228], total_loss: [0.62828678]\n",
      "Epoch: [25],step: [3500], mri_ssim_loss: [0.59679133], pet_ssim_loss: [0.69696832],  total_ssim_loss: [0.64687979], total_l2_loss: [0.01996175], total_loss: [0.52149624]\n",
      "Epoch: [26],step: [3600], mri_ssim_loss: [0.85053504], pet_ssim_loss: [0.93528849],  total_ssim_loss: [0.89291179], total_l2_loss: [0.05046050], total_loss: [0.72442150]\n",
      "Epoch: [27],step: [3700], mri_ssim_loss: [0.65898573], pet_ssim_loss: [0.75892067],  total_ssim_loss: [0.70895320], total_l2_loss: [0.08433559], total_loss: [0.58402967]\n",
      "Epoch: [27],step: [3800], mri_ssim_loss: [0.73970187], pet_ssim_loss: [0.82886070],  total_ssim_loss: [0.78428125], total_l2_loss: [0.07304937], total_loss: [0.64203489]\n",
      "Epoch: [28],step: [3900], mri_ssim_loss: [0.66155964], pet_ssim_loss: [0.72362268],  total_ssim_loss: [0.69259119], total_l2_loss: [0.15353362], total_loss: [0.58477968]\n",
      "Epoch: [29],step: [4000], mri_ssim_loss: [0.80658287], pet_ssim_loss: [0.86635816],  total_ssim_loss: [0.83647048], total_l2_loss: [0.03553308], total_loss: [0.67628300]\n",
      "Epoch: [30],step: [4100], mri_ssim_loss: [0.61815119], pet_ssim_loss: [0.89115417],  total_ssim_loss: [0.75465268], total_l2_loss: [0.06214559], total_loss: [0.61615127]\n",
      "Epoch: [30],step: [4200], mri_ssim_loss: [0.69120389], pet_ssim_loss: [0.75386071],  total_ssim_loss: [0.72253227], total_l2_loss: [0.06370571], total_loss: [0.59076697]\n",
      "Epoch: [31],step: [4300], mri_ssim_loss: [0.69797438], pet_ssim_loss: [0.83459055],  total_ssim_loss: [0.76628244], total_l2_loss: [0.10339671], total_loss: [0.63370532]\n",
      "Epoch: [32],step: [4400], mri_ssim_loss: [0.67277735], pet_ssim_loss: [0.73115838],  total_ssim_loss: [0.70196784], total_l2_loss: [0.03225403], total_loss: [0.56802511]\n",
      "Epoch: [33],step: [4500], mri_ssim_loss: [0.60824811], pet_ssim_loss: [0.78745419],  total_ssim_loss: [0.69785118], total_l2_loss: [0.09640940], total_loss: [0.57756281]\n",
      "Epoch: [33],step: [4600], mri_ssim_loss: [0.37009913], pet_ssim_loss: [0.41911393],  total_ssim_loss: [0.39460653], total_l2_loss: [0.01254422], total_loss: [0.31819409]\n",
      "Epoch: [34],step: [4700], mri_ssim_loss: [0.69521123], pet_ssim_loss: [0.77400106],  total_ssim_loss: [0.73460615], total_l2_loss: [0.01355814], total_loss: [0.59039658]\n",
      "Epoch: [35],step: [4800], mri_ssim_loss: [0.74692887], pet_ssim_loss: [0.86860257],  total_ssim_loss: [0.80776572], total_l2_loss: [0.02920949], total_loss: [0.65205449]\n",
      "Epoch: [36],step: [4900], mri_ssim_loss: [0.66114277], pet_ssim_loss: [0.78683460],  total_ssim_loss: [0.72398865], total_l2_loss: [0.01592909], total_loss: [0.58237672]\n",
      "Epoch: [36],step: [5000], mri_ssim_loss: [0.62903398], pet_ssim_loss: [0.75285447],  total_ssim_loss: [0.69094419], total_l2_loss: [0.02330768], total_loss: [0.55741692]\n",
      "Epoch: [37],step: [5100], mri_ssim_loss: [0.84933257], pet_ssim_loss: [0.95236647],  total_ssim_loss: [0.90084952], total_l2_loss: [0.03470156], total_loss: [0.72761995]\n",
      "Epoch: [38],step: [5200], mri_ssim_loss: [0.79279459], pet_ssim_loss: [0.82459188],  total_ssim_loss: [0.80869323], total_l2_loss: [0.08251606], total_loss: [0.66345781]\n",
      "Epoch: [38],step: [5300], mri_ssim_loss: [0.83726895], pet_ssim_loss: [0.73301196],  total_ssim_loss: [0.78514045], total_l2_loss: [0.08203918], total_loss: [0.64452022]\n",
      "Epoch: [39],step: [5400], mri_ssim_loss: [0.68709397], pet_ssim_loss: [0.70082664],  total_ssim_loss: [0.69396031], total_l2_loss: [0.02330118], total_loss: [0.55982852]\n",
      "Epoch: [40],step: [5500], mri_ssim_loss: [0.85167009], pet_ssim_loss: [0.91005957],  total_ssim_loss: [0.88086486], total_l2_loss: [0.14221230], total_loss: [0.73313433]\n",
      "Epoch: [41],step: [5600], mri_ssim_loss: [0.69135892], pet_ssim_loss: [0.91042066],  total_ssim_loss: [0.80088979], total_l2_loss: [0.07655665], total_loss: [0.65602314]\n",
      "Epoch: [41],step: [5700], mri_ssim_loss: [0.68034369], pet_ssim_loss: [0.79043531],  total_ssim_loss: [0.73538947], total_l2_loss: [0.04749301], total_loss: [0.59781021]\n",
      "Epoch: [42],step: [5800], mri_ssim_loss: [0.75956351], pet_ssim_loss: [0.83430946],  total_ssim_loss: [0.79693651], total_l2_loss: [0.02960924], total_loss: [0.64347106]\n",
      "Epoch: [43],step: [5900], mri_ssim_loss: [0.76368964], pet_ssim_loss: [0.87417614],  total_ssim_loss: [0.81893289], total_l2_loss: [0.01586238], total_loss: [0.65831876]\n",
      "Epoch: [44],step: [6000], mri_ssim_loss: [0.73379004], pet_ssim_loss: [0.76374269],  total_ssim_loss: [0.74876636], total_l2_loss: [0.05415409], total_loss: [0.60984391]\n",
      "Epoch: [44],step: [6100], mri_ssim_loss: [0.85073447], pet_ssim_loss: [0.80245048],  total_ssim_loss: [0.82659245], total_l2_loss: [0.11712167], total_loss: [0.68469828]\n",
      "Epoch: [45],step: [6200], mri_ssim_loss: [0.75665748], pet_ssim_loss: [0.81731200],  total_ssim_loss: [0.78698474], total_l2_loss: [0.08636007], total_loss: [0.64685982]\n",
      "Epoch: [46],step: [6300], mri_ssim_loss: [0.82580096], pet_ssim_loss: [0.87231565],  total_ssim_loss: [0.84905827], total_l2_loss: [0.08323239], total_loss: [0.69589311]\n",
      "Epoch: [47],step: [6400], mri_ssim_loss: [0.65020174], pet_ssim_loss: [0.79146492],  total_ssim_loss: [0.72083330], total_l2_loss: [0.03426134], total_loss: [0.58351892]\n",
      "Epoch: [47],step: [6500], mri_ssim_loss: [0.48966205], pet_ssim_loss: [0.79497856],  total_ssim_loss: [0.64232028], total_l2_loss: [0.02120926], total_loss: [0.51809806]\n",
      "Epoch: [48],step: [6600], mri_ssim_loss: [0.70832169], pet_ssim_loss: [0.66265082],  total_ssim_loss: [0.68548626], total_l2_loss: [0.01972690], total_loss: [0.55233443]\n",
      "Epoch: [49],step: [6700], mri_ssim_loss: [0.70248163], pet_ssim_loss: [0.67801392],  total_ssim_loss: [0.69024777], total_l2_loss: [0.02748679], total_loss: [0.55769557]\n",
      "Epoch: [49],step: [6800], mri_ssim_loss: [0.48905057], pet_ssim_loss: [0.62918919],  total_ssim_loss: [0.55911988], total_l2_loss: [0.01850325], total_loss: [0.45099655]\n",
      "Epoch: [50],step: [6900], mri_ssim_loss: [0.55518985], pet_ssim_loss: [0.70244920],  total_ssim_loss: [0.62881953], total_l2_loss: [0.02146513], total_loss: [0.50734866]\n",
      "Epoch: [51],step: [7000], mri_ssim_loss: [0.84536546], pet_ssim_loss: [0.91211188],  total_ssim_loss: [0.87873864], total_l2_loss: [0.04169186], total_loss: [0.71132934]\n",
      "Epoch: [52],step: [7100], mri_ssim_loss: [0.51378113], pet_ssim_loss: [0.67805296],  total_ssim_loss: [0.59591705], total_l2_loss: [0.01352444], total_loss: [0.47943854]\n",
      "Epoch: [52],step: [7200], mri_ssim_loss: [0.57803082], pet_ssim_loss: [0.67843246],  total_ssim_loss: [0.62823164], total_l2_loss: [0.01407644], total_loss: [0.50540066]\n",
      "Epoch: [53],step: [7300], mri_ssim_loss: [0.68066728], pet_ssim_loss: [0.77152246],  total_ssim_loss: [0.72609484], total_l2_loss: [0.02439783], total_loss: [0.58575547]\n",
      "Epoch: [54],step: [7400], mri_ssim_loss: [0.78441036], pet_ssim_loss: [0.84978974],  total_ssim_loss: [0.81710005], total_l2_loss: [0.02027481], total_loss: [0.65773499]\n",
      "Epoch: [55],step: [7500], mri_ssim_loss: [0.65632021], pet_ssim_loss: [0.81836092],  total_ssim_loss: [0.73734057], total_l2_loss: [0.04516026], total_loss: [0.59890455]\n",
      "Epoch: [55],step: [7600], mri_ssim_loss: [0.48075521], pet_ssim_loss: [0.59974855],  total_ssim_loss: [0.54025185], total_l2_loss: [0.01257218], total_loss: [0.43471590]\n",
      "Epoch: [56],step: [7700], mri_ssim_loss: [0.33447939], pet_ssim_loss: [0.51559949],  total_ssim_loss: [0.42503944], total_l2_loss: [0.01067203], total_loss: [0.34216598]\n",
      "Epoch: [57],step: [7800], mri_ssim_loss: [0.61847800], pet_ssim_loss: [0.67976809],  total_ssim_loss: [0.64912307], total_l2_loss: [0.02544058], total_loss: [0.52438658]\n",
      "Epoch: [58],step: [7900], mri_ssim_loss: [0.62828338], pet_ssim_loss: [0.70308626],  total_ssim_loss: [0.66568482], total_l2_loss: [0.01555376], total_loss: [0.53565866]\n",
      "Epoch: [58],step: [8000], mri_ssim_loss: [0.99437106], pet_ssim_loss: [0.66971582],  total_ssim_loss: [0.83204341], total_l2_loss: [0.01483968], total_loss: [0.66860271]\n",
      "Epoch: [59],step: [8100], mri_ssim_loss: [0.75567979], pet_ssim_loss: [0.84033120],  total_ssim_loss: [0.79800546], total_l2_loss: [0.01955235], total_loss: [0.64231485]\n",
      "Epoch: [60],step: [8200], mri_ssim_loss: [0.20757461], pet_ssim_loss: [0.24179918],  total_ssim_loss: [0.22468689], total_l2_loss: [0.01628380], total_loss: [0.18300627]\n",
      "Epoch: [61],step: [8300], mri_ssim_loss: [0.59281689], pet_ssim_loss: [0.61603642],  total_ssim_loss: [0.60442662], total_l2_loss: [0.01283793], total_loss: [0.48610890]\n",
      "Epoch: [61],step: [8400], mri_ssim_loss: [0.57813954], pet_ssim_loss: [0.60562801],  total_ssim_loss: [0.59188378], total_l2_loss: [0.00715940], total_loss: [0.47493890]\n",
      "Epoch: [62],step: [8500], mri_ssim_loss: [0.83778179], pet_ssim_loss: [0.89416766],  total_ssim_loss: [0.86597472], total_l2_loss: [0.01220544], total_loss: [0.69522089]\n",
      "Epoch: [63],step: [8600], mri_ssim_loss: [0.36287951], pet_ssim_loss: [0.40435672],  total_ssim_loss: [0.38361812], total_l2_loss: [0.01882165], total_loss: [0.31065884]\n",
      "Epoch: [63],step: [8700], mri_ssim_loss: [0.62967563], pet_ssim_loss: [0.69708139],  total_ssim_loss: [0.66337848], total_l2_loss: [0.01879038], total_loss: [0.53446084]\n",
      "Epoch: [64],step: [8800], mri_ssim_loss: [0.55496359], pet_ssim_loss: [0.66613972],  total_ssim_loss: [0.61055166], total_l2_loss: [0.00678743], total_loss: [0.48979881]\n",
      "Epoch: [65],step: [8900], mri_ssim_loss: [0.11827517], pet_ssim_loss: [0.17498517],  total_ssim_loss: [0.14663017], total_l2_loss: [0.01915300], total_loss: [0.12113474]\n",
      "Epoch: [66],step: [9000], mri_ssim_loss: [0.62029696], pet_ssim_loss: [0.68756878],  total_ssim_loss: [0.65393287], total_l2_loss: [0.00899009], total_loss: [0.52494437]\n",
      "Epoch: [66],step: [9100], mri_ssim_loss: [0.36907160], pet_ssim_loss: [0.39526737],  total_ssim_loss: [0.38216949], total_l2_loss: [0.01222181], total_loss: [0.30817994]\n",
      "Epoch: [67],step: [9200], mri_ssim_loss: [0.32392967], pet_ssim_loss: [0.31154501],  total_ssim_loss: [0.31773734], total_l2_loss: [0.00943685], total_loss: [0.25607726]\n",
      "Epoch: [68],step: [9300], mri_ssim_loss: [0.42400753], pet_ssim_loss: [0.47543526],  total_ssim_loss: [0.44972140], total_l2_loss: [0.01085719], total_loss: [0.36194855]\n",
      "Epoch: [69],step: [9400], mri_ssim_loss: [0.64551252], pet_ssim_loss: [0.67935538],  total_ssim_loss: [0.66243398], total_l2_loss: [0.01298157], total_loss: [0.53254354]\n",
      "Epoch: [69],step: [9500], mri_ssim_loss: [0.40547884], pet_ssim_loss: [0.62087417],  total_ssim_loss: [0.51317650], total_l2_loss: [0.01241651], total_loss: [0.41302451]\n",
      "Epoch: [70],step: [9600], mri_ssim_loss: [0.17605770], pet_ssim_loss: [0.28015816],  total_ssim_loss: [0.22810793], total_l2_loss: [0.01008890], total_loss: [0.18450412]\n",
      "Epoch: [71],step: [9700], mri_ssim_loss: [0.38354391], pet_ssim_loss: [0.45744371],  total_ssim_loss: [0.42049381], total_l2_loss: [0.01382028], total_loss: [0.33915910]\n",
      "Epoch: [72],step: [9800], mri_ssim_loss: [0.56777596], pet_ssim_loss: [0.73583329],  total_ssim_loss: [0.65180463], total_l2_loss: [0.01007700], total_loss: [0.52345914]\n",
      "Epoch: [72],step: [9900], mri_ssim_loss: [0.65424204], pet_ssim_loss: [0.44172364],  total_ssim_loss: [0.54798281], total_l2_loss: [0.00851846], total_loss: [0.44008994]\n",
      "Epoch: [73],step: [10000], mri_ssim_loss: [0.25071990], pet_ssim_loss: [0.41595471],  total_ssim_loss: [0.33333731], total_l2_loss: [0.01604111], total_loss: [0.26987806]\n",
      "Epoch: [74],step: [10100], mri_ssim_loss: [0.20972788], pet_ssim_loss: [0.34191251],  total_ssim_loss: [0.27582020], total_l2_loss: [0.01699794], total_loss: [0.22405574]\n",
      "Epoch: [74],step: [10200], mri_ssim_loss: [0.32584620], pet_ssim_loss: [0.47517270],  total_ssim_loss: [0.40050945], total_l2_loss: [0.01109291], total_loss: [0.32262614]\n",
      "Epoch: [75],step: [10300], mri_ssim_loss: [0.35426849], pet_ssim_loss: [0.46352732],  total_ssim_loss: [0.40889791], total_l2_loss: [0.01632830], total_loss: [0.33038399]\n",
      "Epoch: [76],step: [10400], mri_ssim_loss: [0.08248830], pet_ssim_loss: [0.20231545],  total_ssim_loss: [0.14240187], total_l2_loss: [0.01103879], total_loss: [0.11612926]\n",
      "Epoch: [77],step: [10500], mri_ssim_loss: [0.35566449], pet_ssim_loss: [0.48453522],  total_ssim_loss: [0.42009985], total_l2_loss: [0.01138484], total_loss: [0.33835685]\n",
      "Epoch: [77],step: [10600], mri_ssim_loss: [0.34331834], pet_ssim_loss: [0.44354129],  total_ssim_loss: [0.39342982], total_l2_loss: [0.01388533], total_loss: [0.31752092]\n",
      "Epoch: [78],step: [10700], mri_ssim_loss: [0.18433094], pet_ssim_loss: [0.33021843],  total_ssim_loss: [0.25727469], total_l2_loss: [0.01227478], total_loss: [0.20827471]\n",
      "Epoch: [79],step: [10800], mri_ssim_loss: [0.14847338], pet_ssim_loss: [0.24818629],  total_ssim_loss: [0.19832984], total_l2_loss: [0.00923276], total_loss: [0.16051042]\n",
      "Epoch: [80],step: [10900], mri_ssim_loss: [0.29153073], pet_ssim_loss: [0.59521258],  total_ssim_loss: [0.44337165], total_l2_loss: [0.00945883], total_loss: [0.35658908]\n",
      "Epoch: [80],step: [11000], mri_ssim_loss: [0.16353285], pet_ssim_loss: [0.27090061],  total_ssim_loss: [0.21721673], total_l2_loss: [0.00989110], total_loss: [0.17575161]\n",
      "Epoch: [81],step: [11100], mri_ssim_loss: [0.18727881], pet_ssim_loss: [0.31593055],  total_ssim_loss: [0.25160468], total_l2_loss: [0.01499324], total_loss: [0.20428239]\n",
      "Epoch: [82],step: [11200], mri_ssim_loss: [0.39042175], pet_ssim_loss: [0.51186836],  total_ssim_loss: [0.45114505], total_l2_loss: [0.01313110], total_loss: [0.36354226]\n",
      "Epoch: [83],step: [11300], mri_ssim_loss: [0.22883302], pet_ssim_loss: [0.47098833],  total_ssim_loss: [0.34991068], total_l2_loss: [0.00914422], total_loss: [0.28175738]\n",
      "Epoch: [83],step: [11400], mri_ssim_loss: [0.37596780], pet_ssim_loss: [0.42345816],  total_ssim_loss: [0.39971298], total_l2_loss: [0.01286868], total_loss: [0.32234412]\n",
      "Epoch: [84],step: [11500], mri_ssim_loss: [0.64592546], pet_ssim_loss: [0.78685009],  total_ssim_loss: [0.71638775], total_l2_loss: [0.00800135], total_loss: [0.57471049]\n",
      "Epoch: [85],step: [11600], mri_ssim_loss: [0.53019142], pet_ssim_loss: [0.66347229],  total_ssim_loss: [0.59683186], total_l2_loss: [0.01578233], total_loss: [0.48062193]\n",
      "Epoch: [86],step: [11700], mri_ssim_loss: [0.18076766], pet_ssim_loss: [0.24850881],  total_ssim_loss: [0.21463823], total_l2_loss: [0.00621223], total_loss: [0.17295304]\n",
      "Epoch: [86],step: [11800], mri_ssim_loss: [0.33883727], pet_ssim_loss: [0.42807710],  total_ssim_loss: [0.38345718], total_l2_loss: [0.00879900], total_loss: [0.30852556]\n",
      "Epoch: [87],step: [11900], mri_ssim_loss: [0.05720520], pet_ssim_loss: [0.16671336],  total_ssim_loss: [0.11195928], total_l2_loss: [0.00966278], total_loss: [0.09149998]\n",
      "Epoch: [88],step: [12000], mri_ssim_loss: [0.41837502], pet_ssim_loss: [0.59658647],  total_ssim_loss: [0.50748074], total_l2_loss: [0.01898274], total_loss: [0.40978116]\n",
      "Epoch: [88],step: [12100], mri_ssim_loss: [0.23659968], pet_ssim_loss: [0.36633420],  total_ssim_loss: [0.30146694], total_l2_loss: [0.01351909], total_loss: [0.24387737]\n",
      "Epoch: [89],step: [12200], mri_ssim_loss: [0.15648133], pet_ssim_loss: [0.27894378],  total_ssim_loss: [0.21771255], total_l2_loss: [0.00696433], total_loss: [0.17556292]\n",
      "Epoch: [90],step: [12300], mri_ssim_loss: [0.08831954], pet_ssim_loss: [0.18793154],  total_ssim_loss: [0.13812554], total_l2_loss: [0.00997211], total_loss: [0.11249486]\n",
      "Epoch: [91],step: [12400], mri_ssim_loss: [0.21106339], pet_ssim_loss: [0.44347930],  total_ssim_loss: [0.32727134], total_l2_loss: [0.00776507], total_loss: [0.26337010]\n",
      "Epoch: [91],step: [12500], mri_ssim_loss: [0.16826808], pet_ssim_loss: [0.26336753],  total_ssim_loss: [0.21581781], total_l2_loss: [0.01162983], total_loss: [0.17498022]\n",
      "Epoch: [92],step: [12600], mri_ssim_loss: [0.16070449], pet_ssim_loss: [0.25847834],  total_ssim_loss: [0.20959142], total_l2_loss: [0.00959622], total_loss: [0.16959238]\n",
      "Epoch: [93],step: [12700], mri_ssim_loss: [0.15501785], pet_ssim_loss: [0.26728475],  total_ssim_loss: [0.21115130], total_l2_loss: [0.01245512], total_loss: [0.17141207]\n",
      "Epoch: [94],step: [12800], mri_ssim_loss: [0.11992466], pet_ssim_loss: [0.37023735],  total_ssim_loss: [0.24508101], total_l2_loss: [0.01225034], total_loss: [0.19851488]\n",
      "Epoch: [94],step: [12900], mri_ssim_loss: [0.36768401], pet_ssim_loss: [0.28427565],  total_ssim_loss: [0.32597983], total_l2_loss: [0.01021586], total_loss: [0.26282707]\n",
      "Epoch: [95],step: [13000], mri_ssim_loss: [0.18912268], pet_ssim_loss: [0.51324618],  total_ssim_loss: [0.35118443], total_l2_loss: [0.02473201], total_loss: [0.28589395]\n",
      "Epoch: [96],step: [13100], mri_ssim_loss: [0.12600148], pet_ssim_loss: [0.23744529],  total_ssim_loss: [0.18172339], total_l2_loss: [0.01689902], total_loss: [0.14875852]\n",
      "Epoch: [97],step: [13200], mri_ssim_loss: [0.38069797], pet_ssim_loss: [0.67225415],  total_ssim_loss: [0.52647603], total_l2_loss: [0.00932387], total_loss: [0.42304558]\n",
      "Epoch: [97],step: [13300], mri_ssim_loss: [0.63668865], pet_ssim_loss: [0.42531163],  total_ssim_loss: [0.53100014], total_l2_loss: [0.01142065], total_loss: [0.42708427]\n",
      "Epoch: [98],step: [13400], mri_ssim_loss: [0.48158419], pet_ssim_loss: [0.67828345],  total_ssim_loss: [0.57993382], total_l2_loss: [0.01318681], total_loss: [0.46658441]\n",
      "Epoch: [99],step: [13500], mri_ssim_loss: [0.29237199], pet_ssim_loss: [0.36473668],  total_ssim_loss: [0.32855433], total_l2_loss: [0.02253405], total_loss: [0.26735026]\n",
      "Epoch: [99],step: [13600], mri_ssim_loss: [0.25927669], pet_ssim_loss: [0.45628136],  total_ssim_loss: [0.35777903], total_l2_loss: [0.01266663], total_loss: [0.28875655]\n",
      "Epoch: [100],step: [13700], mri_ssim_loss: [0.46306503], pet_ssim_loss: [0.60554200],  total_ssim_loss: [0.53430355], total_l2_loss: [0.01486948], total_loss: [0.43041673]\n",
      "Epoch: [101],step: [13800], mri_ssim_loss: [0.08148551], pet_ssim_loss: [0.22422594],  total_ssim_loss: [0.15285572], total_l2_loss: [0.00917779], total_loss: [0.12412014]\n",
      "Epoch: [102],step: [13900], mri_ssim_loss: [0.33456993], pet_ssim_loss: [0.52418721],  total_ssim_loss: [0.42937857], total_l2_loss: [0.01155340], total_loss: [0.34581354]\n",
      "Epoch: [102],step: [14000], mri_ssim_loss: [0.11701465], pet_ssim_loss: [0.23979837],  total_ssim_loss: [0.17840651], total_l2_loss: [0.01191328], total_loss: [0.14510787]\n",
      "Epoch: [103],step: [14100], mri_ssim_loss: [0.39103347], pet_ssim_loss: [0.53925890],  total_ssim_loss: [0.46514618], total_l2_loss: [0.01274194], total_loss: [0.37466535]\n",
      "Epoch: [104],step: [14200], mri_ssim_loss: [0.10070568], pet_ssim_loss: [0.21672678],  total_ssim_loss: [0.15871623], total_l2_loss: [0.00898093], total_loss: [0.12876917]\n",
      "Epoch: [105],step: [14300], mri_ssim_loss: [0.18797684], pet_ssim_loss: [0.45058858],  total_ssim_loss: [0.31928271], total_l2_loss: [0.00883213], total_loss: [0.25719258]\n",
      "Epoch: [105],step: [14400], mri_ssim_loss: [0.32108849], pet_ssim_loss: [0.46682775],  total_ssim_loss: [0.39395812], total_l2_loss: [0.01498162], total_loss: [0.31816283]\n",
      "Epoch: [106],step: [14500], mri_ssim_loss: [0.49865651], pet_ssim_loss: [0.56585318],  total_ssim_loss: [0.53225482], total_l2_loss: [0.01061173], total_loss: [0.42792621]\n",
      "Epoch: [107],step: [14600], mri_ssim_loss: [0.20883954], pet_ssim_loss: [0.32443702],  total_ssim_loss: [0.26663828], total_l2_loss: [0.01938902], total_loss: [0.21718843]\n",
      "Epoch: [108],step: [14700], mri_ssim_loss: [0.17646003], pet_ssim_loss: [0.37140131],  total_ssim_loss: [0.27393067], total_l2_loss: [0.01029674], total_loss: [0.22120389]\n",
      "Epoch: [108],step: [14800], mri_ssim_loss: [0.38393462], pet_ssim_loss: [0.38290811],  total_ssim_loss: [0.38342136], total_l2_loss: [0.01113811], total_loss: [0.30896473]\n",
      "Epoch: [109],step: [14900], mri_ssim_loss: [0.47260273], pet_ssim_loss: [0.64001024],  total_ssim_loss: [0.55630648], total_l2_loss: [0.00842081], total_loss: [0.44672936]\n",
      "Epoch: [110],step: [15000], mri_ssim_loss: [0.17455500], pet_ssim_loss: [0.30831611],  total_ssim_loss: [0.24143556], total_l2_loss: [0.01511112], total_loss: [0.19617067]\n",
      "Epoch: [111],step: [15100], mri_ssim_loss: [0.26673734], pet_ssim_loss: [0.35733044],  total_ssim_loss: [0.31203389], total_l2_loss: [0.00523153], total_loss: [0.25067341]\n",
      "Epoch: [111],step: [15200], mri_ssim_loss: [0.21162033], pet_ssim_loss: [0.31251991],  total_ssim_loss: [0.26207012], total_l2_loss: [0.00763239], total_loss: [0.21118258]\n",
      "Epoch: [112],step: [15300], mri_ssim_loss: [0.10051072], pet_ssim_loss: [0.18171978],  total_ssim_loss: [0.14111525], total_l2_loss: [0.01296991], total_loss: [0.11548618]\n",
      "Epoch: [113],step: [15400], mri_ssim_loss: [0.30191898], pet_ssim_loss: [0.45015860],  total_ssim_loss: [0.37603879], total_l2_loss: [0.01864042], total_loss: [0.30455914]\n",
      "Epoch: [113],step: [15500], mri_ssim_loss: [0.20616364], pet_ssim_loss: [0.32785416],  total_ssim_loss: [0.26700890], total_l2_loss: [0.01334389], total_loss: [0.21627590]\n",
      "Epoch: [114],step: [15600], mri_ssim_loss: [0.15298295], pet_ssim_loss: [0.27497655],  total_ssim_loss: [0.21397975], total_l2_loss: [0.00654985], total_loss: [0.17249379]\n",
      "Epoch: [115],step: [15700], mri_ssim_loss: [0.09623897], pet_ssim_loss: [0.17901653],  total_ssim_loss: [0.13762775], total_l2_loss: [0.01408541], total_loss: [0.11291928]\n",
      "Epoch: [116],step: [15800], mri_ssim_loss: [0.19261706], pet_ssim_loss: [0.44175923],  total_ssim_loss: [0.31718814], total_l2_loss: [0.00813018], total_loss: [0.25537658]\n",
      "Epoch: [116],step: [15900], mri_ssim_loss: [0.34225690], pet_ssim_loss: [0.49950480],  total_ssim_loss: [0.42088085], total_l2_loss: [0.01197746], total_loss: [0.33910018]\n",
      "Epoch: [117],step: [16000], mri_ssim_loss: [0.12917852], pet_ssim_loss: [0.30180430],  total_ssim_loss: [0.21549141], total_l2_loss: [0.01246734], total_loss: [0.17488660]\n",
      "Epoch: [118],step: [16100], mri_ssim_loss: [0.16941392], pet_ssim_loss: [0.29255170],  total_ssim_loss: [0.23098281], total_l2_loss: [0.01354027], total_loss: [0.18749429]\n",
      "Epoch: [119],step: [16200], mri_ssim_loss: [0.19729304], pet_ssim_loss: [0.40681529],  total_ssim_loss: [0.30205417], total_l2_loss: [0.01025864], total_loss: [0.24369507]\n",
      "Epoch: [119],step: [16300], mri_ssim_loss: [0.25919414], pet_ssim_loss: [0.35832477],  total_ssim_loss: [0.30875945], total_l2_loss: [0.00971372], total_loss: [0.24895030]\n",
      "Epoch: [120],step: [16400], mri_ssim_loss: [0.36268276], pet_ssim_loss: [0.63551164],  total_ssim_loss: [0.49909720], total_l2_loss: [0.01791272], total_loss: [0.40286031]\n",
      "Epoch: [121],step: [16500], mri_ssim_loss: [0.22650784], pet_ssim_loss: [0.34235770],  total_ssim_loss: [0.28443277], total_l2_loss: [0.02025091], total_loss: [0.23159640]\n",
      "Epoch: [122],step: [16600], mri_ssim_loss: [0.40727353], pet_ssim_loss: [0.68877840],  total_ssim_loss: [0.54802597], total_l2_loss: [0.01065141], total_loss: [0.44055104]\n",
      "Epoch: [122],step: [16700], mri_ssim_loss: [0.56733263], pet_ssim_loss: [0.38835466],  total_ssim_loss: [0.47784364], total_l2_loss: [0.01231098], total_loss: [0.38473713]\n",
      "Epoch: [123],step: [16800], mri_ssim_loss: [0.49620461], pet_ssim_loss: [0.65697753],  total_ssim_loss: [0.57659107], total_l2_loss: [0.01086511], total_loss: [0.46344590]\n",
      "Epoch: [124],step: [16900], mri_ssim_loss: [0.30894905], pet_ssim_loss: [0.34823388],  total_ssim_loss: [0.32859147], total_l2_loss: [0.02251123], total_loss: [0.26737541]\n",
      "Epoch: [124],step: [17000], mri_ssim_loss: [0.23660088], pet_ssim_loss: [0.40502596],  total_ssim_loss: [0.32081342], total_l2_loss: [0.01083145], total_loss: [0.25881705]\n",
      "Epoch: [125],step: [17100], mri_ssim_loss: [0.40238392], pet_ssim_loss: [0.50980628],  total_ssim_loss: [0.45609510], total_l2_loss: [0.01484827], total_loss: [0.36784574]\n",
      "Epoch: [126],step: [17200], mri_ssim_loss: [0.09757966], pet_ssim_loss: [0.20656621],  total_ssim_loss: [0.15207294], total_l2_loss: [0.01340646], total_loss: [0.12433964]\n",
      "Epoch: [127],step: [17300], mri_ssim_loss: [0.26614702], pet_ssim_loss: [0.44711280],  total_ssim_loss: [0.35662991], total_l2_loss: [0.01151718], total_loss: [0.28760734]\n",
      "Epoch: [127],step: [17400], mri_ssim_loss: [0.26374412], pet_ssim_loss: [0.38786018],  total_ssim_loss: [0.32580215], total_l2_loss: [0.01240084], total_loss: [0.26312190]\n",
      "Epoch: [128],step: [17500], mri_ssim_loss: [0.21540046], pet_ssim_loss: [0.36394191],  total_ssim_loss: [0.28967118], total_l2_loss: [0.01324226], total_loss: [0.23438540]\n",
      "Epoch: [129],step: [17600], mri_ssim_loss: [0.10054207], pet_ssim_loss: [0.20001954],  total_ssim_loss: [0.15028080], total_l2_loss: [0.01082826], total_loss: [0.12239030]\n",
      "Epoch: [130],step: [17700], mri_ssim_loss: [0.19929838], pet_ssim_loss: [0.45538354],  total_ssim_loss: [0.32734096], total_l2_loss: [0.00876154], total_loss: [0.26362509]\n",
      "Epoch: [130],step: [17800], mri_ssim_loss: [0.14074922], pet_ssim_loss: [0.29336727],  total_ssim_loss: [0.21705824], total_l2_loss: [0.01023778], total_loss: [0.17569415]\n",
      "Epoch: [131],step: [17900], mri_ssim_loss: [0.12763619], pet_ssim_loss: [0.31519502],  total_ssim_loss: [0.22141561], total_l2_loss: [0.01086930], total_loss: [0.17930634]\n",
      "Epoch: [132],step: [18000], mri_ssim_loss: [0.14054352], pet_ssim_loss: [0.25032306],  total_ssim_loss: [0.19543329], total_l2_loss: [0.01816989], total_loss: [0.15998061]\n",
      "Epoch: [133],step: [18100], mri_ssim_loss: [0.19046950], pet_ssim_loss: [0.36017883],  total_ssim_loss: [0.27532417], total_l2_loss: [0.00937330], total_loss: [0.22213399]\n",
      "Epoch: [133],step: [18200], mri_ssim_loss: [0.63310826], pet_ssim_loss: [0.37855530],  total_ssim_loss: [0.50583178], total_l2_loss: [0.01134732], total_loss: [0.40693492]\n",
      "Epoch: [134],step: [18300], mri_ssim_loss: [0.58464611], pet_ssim_loss: [0.66180950],  total_ssim_loss: [0.62322783], total_l2_loss: [0.00577539], total_loss: [0.49973735]\n",
      "Epoch: [135],step: [18400], mri_ssim_loss: [0.13010395], pet_ssim_loss: [0.28019464],  total_ssim_loss: [0.20514929], total_l2_loss: [0.01634602], total_loss: [0.16738865]\n",
      "Epoch: [136],step: [18500], mri_ssim_loss: [0.22207361], pet_ssim_loss: [0.30856037],  total_ssim_loss: [0.26531699], total_l2_loss: [0.00564532], total_loss: [0.21338266]\n",
      "Epoch: [136],step: [18600], mri_ssim_loss: [0.20436990], pet_ssim_loss: [0.34530222],  total_ssim_loss: [0.27483606], total_l2_loss: [0.00705742], total_loss: [0.22128034]\n",
      "Epoch: [137],step: [18700], mri_ssim_loss: [0.07289970], pet_ssim_loss: [0.16924107],  total_ssim_loss: [0.12107038], total_l2_loss: [0.01076495], total_loss: [0.09900930]\n",
      "Epoch: [138],step: [18800], mri_ssim_loss: [0.29670262], pet_ssim_loss: [0.37486291],  total_ssim_loss: [0.33578277], total_l2_loss: [0.02170969], total_loss: [0.27296814]\n",
      "Epoch: [138],step: [18900], mri_ssim_loss: [0.20998389], pet_ssim_loss: [0.33349681],  total_ssim_loss: [0.27174035], total_l2_loss: [0.01318430], total_loss: [0.22002915]\n",
      "Epoch: [139],step: [19000], mri_ssim_loss: [0.13859940], pet_ssim_loss: [0.32686687],  total_ssim_loss: [0.23273313], total_l2_loss: [0.00677940], total_loss: [0.18754239]\n",
      "Epoch: [140],step: [19100], mri_ssim_loss: [0.13616973], pet_ssim_loss: [0.23475629],  total_ssim_loss: [0.18546301], total_l2_loss: [0.01150716], total_loss: [0.15067184]\n",
      "Epoch: [141],step: [19200], mri_ssim_loss: [0.27374864], pet_ssim_loss: [0.42768204],  total_ssim_loss: [0.35071534], total_l2_loss: [0.00866290], total_loss: [0.28230485]\n",
      "Epoch: [141],step: [19300], mri_ssim_loss: [0.14651000], pet_ssim_loss: [0.26599640],  total_ssim_loss: [0.20625320], total_l2_loss: [0.01191549], total_loss: [0.16738567]\n",
      "Epoch: [142],step: [19400], mri_ssim_loss: [0.18741697], pet_ssim_loss: [0.28367883],  total_ssim_loss: [0.23554790], total_l2_loss: [0.01051051], total_loss: [0.19054043]\n",
      "Epoch: [143],step: [19500], mri_ssim_loss: [0.16450709], pet_ssim_loss: [0.27728975],  total_ssim_loss: [0.22089842], total_l2_loss: [0.01459277], total_loss: [0.17963730]\n",
      "Epoch: [144],step: [19600], mri_ssim_loss: [0.17163301], pet_ssim_loss: [0.35193717],  total_ssim_loss: [0.26178509], total_l2_loss: [0.01037114], total_loss: [0.21150230]\n",
      "Epoch: [144],step: [19700], mri_ssim_loss: [0.29422629], pet_ssim_loss: [0.32174385],  total_ssim_loss: [0.30798507], total_l2_loss: [0.01062831], total_loss: [0.24851373]\n",
      "Epoch: [145],step: [19800], mri_ssim_loss: [0.12790751], pet_ssim_loss: [0.40802336],  total_ssim_loss: [0.26796544], total_l2_loss: [0.01761396], total_loss: [0.21789515]\n",
      "Epoch: [146],step: [19900], mri_ssim_loss: [0.23126096], pet_ssim_loss: [0.33679104],  total_ssim_loss: [0.28402600], total_l2_loss: [0.02003189], total_loss: [0.23122719]\n",
      "Epoch: [147],step: [20000], mri_ssim_loss: [0.16465640], pet_ssim_loss: [0.39678979],  total_ssim_loss: [0.28072309], total_l2_loss: [0.00824651], total_loss: [0.22622779]\n",
      "Epoch: [147],step: [20100], mri_ssim_loss: [0.33210558], pet_ssim_loss: [0.50237656],  total_ssim_loss: [0.41724107], total_l2_loss: [0.01071813], total_loss: [0.33593649]\n",
      "Epoch: [148],step: [20200], mri_ssim_loss: [0.42848980], pet_ssim_loss: [0.60329694],  total_ssim_loss: [0.51589334], total_l2_loss: [0.01456318], total_loss: [0.41562733]\n",
      "Epoch: [149],step: [20300], mri_ssim_loss: [0.25847864], pet_ssim_loss: [0.32204896],  total_ssim_loss: [0.29026380], total_l2_loss: [0.01775661], total_loss: [0.23576236]\n",
      "Epoch: [149],step: [20400], mri_ssim_loss: [0.20109218], pet_ssim_loss: [0.38060057],  total_ssim_loss: [0.29084638], total_l2_loss: [0.01105349], total_loss: [0.23488779]\n",
      "Epoch: [150],step: [20500], mri_ssim_loss: [0.28178775], pet_ssim_loss: [0.46116257],  total_ssim_loss: [0.37147516], total_l2_loss: [0.01419684], total_loss: [0.30001950]\n",
      "Epoch: [151],step: [20600], mri_ssim_loss: [0.05531037], pet_ssim_loss: [0.20181960],  total_ssim_loss: [0.12856498], total_l2_loss: [0.00904230], total_loss: [0.10466044]\n",
      "Epoch: [152],step: [20700], mri_ssim_loss: [0.27800232], pet_ssim_loss: [0.44363451],  total_ssim_loss: [0.36081842], total_l2_loss: [0.01137967], total_loss: [0.29093069]\n",
      "Epoch: [152],step: [20800], mri_ssim_loss: [0.11934799], pet_ssim_loss: [0.23910904],  total_ssim_loss: [0.17922851], total_l2_loss: [0.01021168], total_loss: [0.14542516]\n",
      "Epoch: [153],step: [20900], mri_ssim_loss: [0.15032542], pet_ssim_loss: [0.38408154],  total_ssim_loss: [0.26720348], total_l2_loss: [0.01414376], total_loss: [0.21659154]\n",
      "Epoch: [154],step: [21000], mri_ssim_loss: [0.10611778], pet_ssim_loss: [0.19201988],  total_ssim_loss: [0.14906883], total_l2_loss: [0.01267075], total_loss: [0.12178922]\n",
      "Epoch: [155],step: [21100], mri_ssim_loss: [0.22940409], pet_ssim_loss: [0.39988166],  total_ssim_loss: [0.31464288], total_l2_loss: [0.00901383], total_loss: [0.25351709]\n",
      "Epoch: [155],step: [21200], mri_ssim_loss: [0.19847000], pet_ssim_loss: [0.33919591],  total_ssim_loss: [0.26883295], total_l2_loss: [0.00848931], total_loss: [0.21676423]\n",
      "Epoch: [156],step: [21300], mri_ssim_loss: [0.18969369], pet_ssim_loss: [0.32458615],  total_ssim_loss: [0.25713992], total_l2_loss: [0.00883576], total_loss: [0.20747910]\n",
      "Epoch: [157],step: [21400], mri_ssim_loss: [0.16027880], pet_ssim_loss: [0.23268348],  total_ssim_loss: [0.19648114], total_l2_loss: [0.02078232], total_loss: [0.16134138]\n",
      "Epoch: [158],step: [21500], mri_ssim_loss: [0.23680723], pet_ssim_loss: [0.35802174],  total_ssim_loss: [0.29741448], total_l2_loss: [0.00909782], total_loss: [0.23975116]\n",
      "Epoch: [158],step: [21600], mri_ssim_loss: [0.46054411], pet_ssim_loss: [0.32189572],  total_ssim_loss: [0.39121991], total_l2_loss: [0.01119552], total_loss: [0.31521505]\n",
      "Epoch: [159],step: [21700], mri_ssim_loss: [0.13882375], pet_ssim_loss: [0.21654600],  total_ssim_loss: [0.17768487], total_l2_loss: [0.00564024], total_loss: [0.14327595]\n",
      "Epoch: [160],step: [21800], mri_ssim_loss: [0.15133905], pet_ssim_loss: [0.25667906],  total_ssim_loss: [0.20400906], total_l2_loss: [0.01579342], total_loss: [0.16636594]\n",
      "Epoch: [161],step: [21900], mri_ssim_loss: [0.18412185], pet_ssim_loss: [0.25321227],  total_ssim_loss: [0.21866706], total_l2_loss: [0.00576400], total_loss: [0.17608646]\n",
      "Epoch: [161],step: [22000], mri_ssim_loss: [0.18188745], pet_ssim_loss: [0.29310691],  total_ssim_loss: [0.23749718], total_l2_loss: [0.00647085], total_loss: [0.19129191]\n",
      "Epoch: [162],step: [22100], mri_ssim_loss: [0.06511807], pet_ssim_loss: [0.17243385],  total_ssim_loss: [0.11877596], total_l2_loss: [0.00884680], total_loss: [0.09679013]\n",
      "Epoch: [163],step: [22200], mri_ssim_loss: [0.32818210], pet_ssim_loss: [0.43173736],  total_ssim_loss: [0.37995973], total_l2_loss: [0.01983087], total_loss: [0.30793399]\n",
      "Epoch: [163],step: [22300], mri_ssim_loss: [0.23226124], pet_ssim_loss: [0.30198008],  total_ssim_loss: [0.26712066], total_l2_loss: [0.01313701], total_loss: [0.21632393]\n",
      "Epoch: [164],step: [22400], mri_ssim_loss: [0.23027229], pet_ssim_loss: [0.31547970],  total_ssim_loss: [0.27287599], total_l2_loss: [0.00685767], total_loss: [0.21967234]\n",
      "Epoch: [165],step: [22500], mri_ssim_loss: [0.07983708], pet_ssim_loss: [0.17960346],  total_ssim_loss: [0.12972027], total_l2_loss: [0.00873952], total_loss: [0.10552412]\n",
      "Epoch: [166],step: [22600], mri_ssim_loss: [0.25683397], pet_ssim_loss: [0.30869323],  total_ssim_loss: [0.28276360], total_l2_loss: [0.00856448], total_loss: [0.22792377]\n",
      "Epoch: [166],step: [22700], mri_ssim_loss: [0.15595526], pet_ssim_loss: [0.26758063],  total_ssim_loss: [0.21176794], total_l2_loss: [0.01219571], total_loss: [0.17185350]\n",
      "Epoch: [167],step: [22800], mri_ssim_loss: [0.12518781], pet_ssim_loss: [0.24705052],  total_ssim_loss: [0.18611917], total_l2_loss: [0.00911140], total_loss: [0.15071762]\n",
      "Epoch: [168],step: [22900], mri_ssim_loss: [0.10486066], pet_ssim_loss: [0.19212013],  total_ssim_loss: [0.14849040], total_l2_loss: [0.01774381], total_loss: [0.12234108]\n",
      "Epoch: [169],step: [23000], mri_ssim_loss: [0.19678724], pet_ssim_loss: [0.27598202],  total_ssim_loss: [0.23638463], total_l2_loss: [0.01042932], total_loss: [0.19119357]\n",
      "Epoch: [169],step: [23100], mri_ssim_loss: [0.27695370], pet_ssim_loss: [0.49045730],  total_ssim_loss: [0.38370550], total_l2_loss: [0.00970741], total_loss: [0.30890587]\n",
      "Epoch: [170],step: [23200], mri_ssim_loss: [0.13552737], pet_ssim_loss: [0.28280991],  total_ssim_loss: [0.20916864], total_l2_loss: [0.00939508], total_loss: [0.16921394]\n",
      "Epoch: [171],step: [23300], mri_ssim_loss: [0.18747026], pet_ssim_loss: [0.26046777],  total_ssim_loss: [0.22396901], total_l2_loss: [0.02561798], total_loss: [0.18429881]\n",
      "Epoch: [172],step: [23400], mri_ssim_loss: [0.25987262], pet_ssim_loss: [0.40383887],  total_ssim_loss: [0.33185574], total_l2_loss: [0.00988208], total_loss: [0.26746103]\n",
      "Epoch: [172],step: [23500], mri_ssim_loss: [0.42085195], pet_ssim_loss: [0.40164435],  total_ssim_loss: [0.41124815], total_l2_loss: [0.01073743], total_loss: [0.33114603]\n",
      "Epoch: [173],step: [23600], mri_ssim_loss: [0.25288874], pet_ssim_loss: [0.36346757],  total_ssim_loss: [0.30817816], total_l2_loss: [0.01652284], total_loss: [0.24984710]\n",
      "Epoch: [174],step: [23700], mri_ssim_loss: [0.22623551], pet_ssim_loss: [0.30681026],  total_ssim_loss: [0.26652288], total_l2_loss: [0.01491256], total_loss: [0.21620083]\n",
      "Epoch: [174],step: [23800], mri_ssim_loss: [0.16485649], pet_ssim_loss: [0.30855638],  total_ssim_loss: [0.23670644], total_l2_loss: [0.01088785], total_loss: [0.19154271]\n",
      "Epoch: [175],step: [23900], mri_ssim_loss: [0.24823332], pet_ssim_loss: [0.37144327],  total_ssim_loss: [0.30983829], total_l2_loss: [0.01398689], total_loss: [0.25066802]\n",
      "Epoch: [176],step: [24000], mri_ssim_loss: [0.05542827], pet_ssim_loss: [0.19048023],  total_ssim_loss: [0.12295425], total_l2_loss: [0.00828845], total_loss: [0.10002109]\n",
      "Epoch: [177],step: [24100], mri_ssim_loss: [0.30208850], pet_ssim_loss: [0.41722399],  total_ssim_loss: [0.35965624], total_l2_loss: [0.01166089], total_loss: [0.29005718]\n",
      "Epoch: [177],step: [24200], mri_ssim_loss: [0.12204075], pet_ssim_loss: [0.21429342],  total_ssim_loss: [0.16816708], total_l2_loss: [0.00893263], total_loss: [0.13632020]\n",
      "Epoch: [178],step: [24300], mri_ssim_loss: [0.18615627], pet_ssim_loss: [0.31419241],  total_ssim_loss: [0.25017434], total_l2_loss: [0.01166556], total_loss: [0.20247258]\n",
      "Epoch: [179],step: [24400], mri_ssim_loss: [0.09585816], pet_ssim_loss: [0.18067348],  total_ssim_loss: [0.13826582], total_l2_loss: [0.00843304], total_loss: [0.11229926]\n",
      "Epoch: [180],step: [24500], mri_ssim_loss: [0.26546019], pet_ssim_loss: [0.35121155],  total_ssim_loss: [0.30833587], total_l2_loss: [0.00929952], total_loss: [0.24852860]\n",
      "Epoch: [180],step: [24600], mri_ssim_loss: [0.16478980], pet_ssim_loss: [0.25772953],  total_ssim_loss: [0.21125966], total_l2_loss: [0.00874455], total_loss: [0.17075664]\n",
      "Epoch: [181],step: [24700], mri_ssim_loss: [0.16265815], pet_ssim_loss: [0.25697750],  total_ssim_loss: [0.20981783], total_l2_loss: [0.00923885], total_loss: [0.16970204]\n",
      "Epoch: [182],step: [24800], mri_ssim_loss: [0.16118401], pet_ssim_loss: [0.22947693],  total_ssim_loss: [0.19533047], total_l2_loss: [0.02635105], total_loss: [0.16153459]\n",
      "Epoch: [183],step: [24900], mri_ssim_loss: [0.19577181], pet_ssim_loss: [0.31682539],  total_ssim_loss: [0.25629860], total_l2_loss: [0.00906621], total_loss: [0.20685214]\n",
      "Epoch: [183],step: [25000], mri_ssim_loss: [0.40504444], pet_ssim_loss: [0.35236228],  total_ssim_loss: [0.37870336], total_l2_loss: [0.01103513], total_loss: [0.30516970]\n",
      "Epoch: [184],step: [25100], mri_ssim_loss: [0.11833274], pet_ssim_loss: [0.20439839],  total_ssim_loss: [0.16136557], total_l2_loss: [0.00640014], total_loss: [0.13037248]\n",
      "Epoch: [185],step: [25200], mri_ssim_loss: [0.14948297], pet_ssim_loss: [0.25459367],  total_ssim_loss: [0.20203832], total_l2_loss: [0.01712186], total_loss: [0.16505504]\n",
      "Epoch: [186],step: [25300], mri_ssim_loss: [0.19730008], pet_ssim_loss: [0.23801392],  total_ssim_loss: [0.21765700], total_l2_loss: [0.00712838], total_loss: [0.17555127]\n",
      "Epoch: [186],step: [25400], mri_ssim_loss: [0.19847870], pet_ssim_loss: [0.26315534],  total_ssim_loss: [0.23081702], total_l2_loss: [0.00753156], total_loss: [0.18615994]\n",
      "Epoch: [187],step: [25500], mri_ssim_loss: [0.06002587], pet_ssim_loss: [0.16903841],  total_ssim_loss: [0.11453214], total_l2_loss: [0.00914441], total_loss: [0.09345459]\n",
      "Epoch: [188],step: [25600], mri_ssim_loss: [0.28690660], pet_ssim_loss: [0.37849879],  total_ssim_loss: [0.33270270], total_l2_loss: [0.01931538], total_loss: [0.27002522]\n",
      "Epoch: [188],step: [25700], mri_ssim_loss: [0.23016322], pet_ssim_loss: [0.29521817],  total_ssim_loss: [0.26269069], total_l2_loss: [0.01288584], total_loss: [0.21272972]\n",
      "Epoch: [189],step: [25800], mri_ssim_loss: [0.20617628], pet_ssim_loss: [0.28662348],  total_ssim_loss: [0.24639988], total_l2_loss: [0.00676796], total_loss: [0.19847350]\n",
      "Epoch: [190],step: [25900], mri_ssim_loss: [0.08053529], pet_ssim_loss: [0.19161093],  total_ssim_loss: [0.13607311], total_l2_loss: [0.00752801], total_loss: [0.11036409]\n",
      "Epoch: [191],step: [26000], mri_ssim_loss: [0.27004457], pet_ssim_loss: [0.31115425],  total_ssim_loss: [0.29059941], total_l2_loss: [0.00850711], total_loss: [0.23418096]\n",
      "Epoch: [191],step: [26100], mri_ssim_loss: [0.16755867], pet_ssim_loss: [0.25845635],  total_ssim_loss: [0.21300751], total_l2_loss: [0.01224671], total_loss: [0.17285536]\n",
      "Epoch: [192],step: [26200], mri_ssim_loss: [0.13323361], pet_ssim_loss: [0.23734277],  total_ssim_loss: [0.18528819], total_l2_loss: [0.00914929], total_loss: [0.15006042]\n",
      "Epoch: [193],step: [26300], mri_ssim_loss: [0.10962683], pet_ssim_loss: [0.19824255],  total_ssim_loss: [0.15393469], total_l2_loss: [0.01775375], total_loss: [0.12669849]\n",
      "Epoch: [194],step: [26400], mri_ssim_loss: [0.22902662], pet_ssim_loss: [0.27878535],  total_ssim_loss: [0.25390598], total_l2_loss: [0.01015318], total_loss: [0.20515543]\n",
      "Epoch: [194],step: [26500], mri_ssim_loss: [0.28689790], pet_ssim_loss: [0.41055083],  total_ssim_loss: [0.34872437], total_l2_loss: [0.00964823], total_loss: [0.28090915]\n",
      "Epoch: [195],step: [26600], mri_ssim_loss: [0.13569045], pet_ssim_loss: [0.28235555],  total_ssim_loss: [0.20902300], total_l2_loss: [0.00950602], total_loss: [0.16911961]\n",
      "Epoch: [196],step: [26700], mri_ssim_loss: [0.25833917], pet_ssim_loss: [0.34461462],  total_ssim_loss: [0.30147690], total_l2_loss: [0.02570797], total_loss: [0.24632311]\n",
      "Epoch: [197],step: [26800], mri_ssim_loss: [0.24194467], pet_ssim_loss: [0.40686846],  total_ssim_loss: [0.32440656], total_l2_loss: [0.00847535], total_loss: [0.26122034]\n",
      "Epoch: [197],step: [26900], mri_ssim_loss: [0.45853198], pet_ssim_loss: [0.39002562],  total_ssim_loss: [0.42427880], total_l2_loss: [0.01282229], total_loss: [0.34198749]\n",
      "Epoch: [198],step: [27000], mri_ssim_loss: [0.22753847], pet_ssim_loss: [0.36107838],  total_ssim_loss: [0.29430842], total_l2_loss: [0.01336472], total_loss: [0.23811968]\n",
      "Epoch: [199],step: [27100], mri_ssim_loss: [0.24332440], pet_ssim_loss: [0.28748482],  total_ssim_loss: [0.26540461], total_l2_loss: [0.01712763], total_loss: [0.21574922]\n",
      "Epoch: [199],step: [27200], mri_ssim_loss: [0.16468179], pet_ssim_loss: [0.31559050],  total_ssim_loss: [0.24013615], total_l2_loss: [0.01126921], total_loss: [0.19436276]\n"
     ]
    },
    {
     "name": "stderr",
     "output_type": "stream",
     "text": [
      "/software/ml/JupyterHub/conda-env-20191018-0822/lib/python3.6/site-packages/torch/serialization.py:256: UserWarning: Couldn't retrieve source code for container of type FunFuseAn. It won't be checked for correctness upon loading.\n",
      "  \"type \" + obj.__name__ + \". It won't be checked \"\n"
     ]
    }
   ],
   "source": [
    "# perform the training\n",
    "counter = 0\n",
    "start_time = time.time()\n",
    "lamda = 0.8\n",
    "gamma_ssim = 0.5\n",
    "gamma_l2 = 0.5\n",
    "ep_ssim_mri_loss = []\n",
    "ep_ssim_pet_loss = []\n",
    "ep_l2_mri_loss = []\n",
    "ep_l2_pet_loss = []\n",
    "for epoch in range(EPOCH):\n",
    "    ssim_mri_Loss = []\n",
    "    ssim_pet_Loss = []\n",
    "    l2_mri_Loss = []\n",
    "    l2_pet_Loss = []\n",
    "    #run batch images\n",
    "    batch_idxs = 272 // batch_size\n",
    "    for idx in range(0, batch_idxs):\n",
    "        b_x = train_mri_tensor[idx*batch_size : (idx+1)*batch_size,:,:,:].to(device)\n",
    "        b_y = train_pet_tensor[idx*batch_size : (idx+1)*batch_size,:,:,:].to(device)\n",
    "        counter += 1\n",
    "        output = cnn(b_x,b_y)               # cnn output\n",
    "        ssim_loss_mri = 1 - ssim(output, b_x,data_range=1)\n",
    "        ssim_loss_pet = 1 - ssim(output, b_y,data_range=1)\n",
    "        l2_loss_mri   = l2_loss(output,b_x)\n",
    "        l2_loss_pet   = l2_loss(output,b_y)\n",
    "        ssim_total = gamma_ssim*ssim_loss_mri + (1-gamma_ssim)*ssim_loss_pet\n",
    "        l2_total = gamma_l2*l2_loss_mri + (1-gamma_l2)*l2_loss_pet\n",
    "        loss_total = lamda*ssim_total + (1-lamda)*l2_total \n",
    "        optimizer.zero_grad()           # clear gradients for this training step\n",
    "        loss_total.backward()           # backpropagation, compute gradients\n",
    "        optimizer.step()                # apply gradients\n",
    "    \n",
    "        #store all the loss values at each epoch\n",
    "        ssim_mri_Loss.append(ssim_loss_mri.item())\n",
    "        ssim_pet_Loss.append(ssim_loss_pet.item())\n",
    "        l2_mri_Loss.append(l2_loss_mri.item())\n",
    "        l2_pet_Loss.append(l2_loss_pet.item())\n",
    "\n",
    "        if counter % 100 == 0:\n",
    "            print(\"Epoch: [%2d],step: [%2d], mri_ssim_loss: [%.8f], pet_ssim_loss: [%.8f],  total_ssim_loss: [%.8f], total_l2_loss: [%.8f], total_loss: [%.8f]\" \n",
    "            %(epoch, counter, ssim_loss_mri, ssim_loss_pet, ssim_total, l2_total, loss_total))\n",
    "\n",
    "    av_ssim_mri_loss = np.average(ssim_mri_Loss)\n",
    "    ep_ssim_mri_loss.append(av_ssim_mri_loss)\n",
    "    \n",
    "    av_ssim_pet_loss = np.average(ssim_pet_Loss)\n",
    "    ep_ssim_pet_loss.append(av_ssim_pet_loss)\n",
    "    \n",
    "    av_l2_mri_loss = np.average(l2_mri_Loss)\n",
    "    ep_l2_mri_loss.append(av_l2_mri_loss)\n",
    "    \n",
    "    av_l2_pet_loss = np.average(l2_pet_Loss)\n",
    "    ep_l2_pet_loss.append(av_l2_pet_loss)\n",
    "    \n",
    "\n",
    "    if(epoch == EPOCH -1):\n",
    "      #Save a checkpoint\n",
    "      torch.save(cnn, '/home/h1/s8993054/Forschungprojekt/Checkpoint/checkpoint_lambda_0.8_gamma_ssim_0.5_gamma_l2_0.5.pth') "
   ]
  },
  {
   "cell_type": "code",
   "execution_count": 16,
   "metadata": {},
   "outputs": [],
   "source": [
    "l1 = np.asarray(ep_ssim_mri_loss)\n",
    "l2 = np.asarray(ep_ssim_pet_loss)\n",
    "l3 = np.asarray(ep_l2_mri_loss)\n",
    "l4 = np.asarray(ep_l2_pet_loss)"
   ]
  },
  {
   "cell_type": "code",
   "execution_count": 17,
   "metadata": {},
   "outputs": [],
   "source": [
    "h5f = h5py.File('/home/h1/s8993054/Forschungprojekt/Loss curves/H5 Files/lamda_0.8/gamma_0.5_0.5_ssim_mri.h5', 'w')\n",
    "h5f.create_dataset('data', data=l1)\n",
    "h5f.close()\n",
    "\n",
    "h5f = h5py.File('/home/h1/s8993054/Forschungprojekt/Loss curves/H5 Files/lamda_0.8/gamma_0.5_0.5_ssim_pet.h5', 'w')\n",
    "h5f.create_dataset('data', data=l2)\n",
    "h5f.close()\n",
    "\n",
    "h5f = h5py.File('/home/h1/s8993054/Forschungprojekt/Loss curves/H5 Files/lamda_0.8/gamma_0.5_0.5_l2_mri.h5', 'w')\n",
    "h5f.create_dataset('data', data=l3)\n",
    "h5f.close()\n",
    "\n",
    "h5f = h5py.File('/home/h1/s8993054/Forschungprojekt/Loss curves/H5 Files/lamda_0.8/gamma_0.5_0.5_l2_pet.h5', 'w')\n",
    "h5f.create_dataset('data', data=l4)\n",
    "h5f.close()"
   ]
  },
  {
   "cell_type": "code",
   "execution_count": 20,
   "metadata": {},
   "outputs": [
    {
     "name": "stderr",
     "output_type": "stream",
     "text": [
      "The PostScript backend does not support transparency; partially transparent artists will be rendered opaque.\n",
      "The PostScript backend does not support transparency; partially transparent artists will be rendered opaque.\n"
     ]
    },
    {
     "data": {
      "image/png": "[encoded data removed]",
      "text/plain": [
       "<Figure size 432x288 with 1 Axes>"
      ]
     },
     "metadata": {
      "needs_background": "light"
     },
     "output_type": "display_data"
    }
   ],
   "source": [
    "#FunFuseAn SSIM gamma_ssim = 0.1 gamma_l2 = 0.1\n",
    "fontP = FontProperties()\n",
    "fontP.set_size('large')\n",
    "plt.plot(l1,'b',label='$1-SSIM_{MRI}$')\n",
    "plt.plot(l2,'c',label='$1-SSIM_{PET}$')\n",
    "plt.xlabel('epoch',fontsize= 15)\n",
    "plt.ylabel('Loss values',fontsize= 15)\n",
    "plt.legend(loc=1, prop=fontP)\n",
    "plt.title('FunFuseAn $\\lambda = 0.8, \\gamma_{ssim} = 0.5, \\gamma_{l2} = 0.5$',fontsize='15')\n",
    "plt.savefig('/home/h1/s8993054/Forschungprojekt/Loss curves/Images/lamda_0.8/gamma_0.5_0.5_ssim.eps', format='eps', dpi=100)"
   ]
  },
  {
   "cell_type": "code",
   "execution_count": 21,
   "metadata": {},
   "outputs": [
    {
     "name": "stderr",
     "output_type": "stream",
     "text": [
      "The PostScript backend does not support transparency; partially transparent artists will be rendered opaque.\n",
      "The PostScript backend does not support transparency; partially transparent artists will be rendered opaque.\n"
     ]
    },
    {
     "data": {
      "image/png": "[encoded data removed]",
      "text/plain": [
       "<Figure size 432x288 with 1 Axes>"
      ]
     },
     "metadata": {
      "needs_background": "light"
     },
     "output_type": "display_data"
    }
   ],
   "source": [
    "#FunFuseAn L2 gamma_ssim = 0.1 gamma_l2 = 0.1\n",
    "fontP = FontProperties()\n",
    "fontP.set_size('large')\n",
    "plt.plot(l3,'b',label='$l2_{MRI}$')\n",
    "plt.plot(l4,'c',label='$l2_{PET}$')\n",
    "plt.xlabel('epoch',fontsize= 15)\n",
    "plt.ylabel('Loss values',fontsize= 15)\n",
    "plt.legend(loc=1, prop=fontP)\n",
    "plt.title('FunFuseAn $\\lambda = 0.8, \\gamma_{ssim} = 0.5, \\gamma_{l2} = 0.5$',fontsize='15')\n",
    "plt.savefig('/home/h1/s8993054/Forschungprojekt/Loss curves/Images/lamda_0.8/gamma_0.5_0.5_l2.eps', format='eps', dpi=100)"
   ]
  },
  {
   "cell_type": "code",
   "execution_count": null,
   "metadata": {},
   "outputs": [],
   "source": []
  }
 ],
 "metadata": {
  "kernelspec": {
   "display_name": "Python 3",
   "language": "python",
   "name": "python3"
  },
  "language_info": {
   "codemirror_mode": {
    "name": "ipython",
    "version": 3
   },
   "file_extension": ".py",
   "mimetype": "text/x-python",
   "name": "python",
   "nbconvert_exporter": "python",
   "pygments_lexer": "ipython3",
   "version": "3.6.9"
  }
 },
 "nbformat": 4,
 "nbformat_minor": 4
}
